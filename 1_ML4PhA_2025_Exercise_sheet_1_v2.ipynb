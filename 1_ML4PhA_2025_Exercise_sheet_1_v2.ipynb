{
  "cells": [
    {
      "cell_type": "markdown",
      "metadata": {
        "id": "view-in-github",
        "colab_type": "text"
      },
      "source": [
        "<a href=\"https://colab.research.google.com/github/labudzki/MLforPA/blob/main/1_ML4PhA_2025_Exercise_sheet_1_v2.ipynb\" target=\"_parent\"><img src=\"https://colab.research.google.com/assets/colab-badge.svg\" alt=\"Open In Colab\"/></a>"
      ]
    },
    {
      "cell_type": "markdown",
      "metadata": {
        "id": "S2YQld0A97U2"
      },
      "source": [
        "# **Problem set 1** - Machine Learning for Physics and Astronomy 2024/2025, UvA"
      ]
    },
    {
      "cell_type": "markdown",
      "source": [
        "- The total sheet gives 27 points\n",
        "- Deadline for submitting your results is **Tue, 8/04/2025, 23:59**\n",
        "- **IMPORTANT**: Specify if/how AI was used to solve the exercises by filling the corresponding \"Usage of AI\" comments. Anything between \"No\" (if applicable) and a short paragraph reflecting how AI was used is fine. Failing to do so faithfully will result in the substraction of points."
      ],
      "metadata": {
        "id": "TfQzLobWWpOF"
      }
    },
    {
      "cell_type": "markdown",
      "metadata": {
        "id": "I1MDL1Cj9_GC"
      },
      "source": [
        "## Probability theory (7 points)\n"
      ]
    },
    {
      "cell_type": "markdown",
      "metadata": {
        "id": "oXoDp4BBAz7h"
      },
      "source": [
        "### 1.1 Monty Hall Problem (2 points)"
      ]
    },
    {
      "cell_type": "markdown",
      "source": [
        "*Topics: joined and marginal distributions, probability tables*\n",
        "\n",
        "On a game show, a contestant is told the following rules:\n",
        "\n",
        "\n",
        "> There are three doors, labelled 1, 2, 3. A single prize has been hidden behind one of them. You get to select one door. Initially your chosen door will not be opened. Instead, the gameshow host will open one of the other two doors, and *he will do so in such a way as not to reveal the prize.* For example, if you first choose door 1, he will then open one of doors 2 and 3, and it is guaranteed that he will choose which one to open so that the prize will not be revealed. At this point, you will be given a fresh choice of door: you can either stick with your first choice, or you can switch to the other closed door. All the doors will then be opened and you will receive whatever is behind your final choice of door.\n",
        "\n",
        "Imagine that the contestant chooses door 1 first; then the gameshow host opens door 3, revealing nothing\n",
        "behind the door, as promised. Should the contestant (a) stick with door 1, or (b) switch to door 2, or (c) does it make no difference? You may assume that initially, the prize is equally likely to be behind any of the 3 doors.\n",
        "\n",
        "Use probability tables to justify your answer."
      ],
      "metadata": {
        "id": "Fo815Wo7RdAS"
      }
    },
    {
      "cell_type": "markdown",
      "metadata": {
        "id": "DQsY2HqsA5KY"
      },
      "source": [
        "*Put your solution here*"
      ]
    },
    {
      "cell_type": "markdown",
      "source": [
        "Usage of AI: *COMMENT HERE*"
      ],
      "metadata": {
        "id": "t3nkfOYUXeDZ"
      }
    },
    {
      "cell_type": "markdown",
      "metadata": {
        "id": "fuhr37WirYqs"
      },
      "source": [
        "### 1.2 Extended Monty Hall Problem (2 points)"
      ]
    },
    {
      "cell_type": "markdown",
      "source": [
        "*Topics: joined and marginal distributions, probability tables*\n",
        "\n",
        "Consider an extended version of the Monty Hall problem. There are now four doors, one with the prize behind it, one with a dog behind it and two with nothing behind them (in random order). The contestant can again randomly choose one door, after which Monty will open two of the other doors not revealing the prize. *Importantly*, if Monty has the choice to reveal the dog he will always do so.\n",
        "\n",
        "Say the contestant chooses door 1, and Monty afterwards reveals an empty door and the dog and offers the contestant to switch doors. What is the probability to win the prize *if the contestant chooses to switch*?\n",
        "\n",
        "Use probability tables to justify your answer."
      ],
      "metadata": {
        "id": "HIzpISlMRhir"
      }
    },
    {
      "cell_type": "markdown",
      "metadata": {
        "id": "lNwqd_ulxBeQ"
      },
      "source": [
        "*Put your solution here*"
      ]
    },
    {
      "cell_type": "markdown",
      "source": [
        "Usage of AI: *COMMENT HERE*"
      ],
      "metadata": {
        "id": "hDNr_xZMXfjK"
      }
    },
    {
      "cell_type": "markdown",
      "metadata": {
        "id": "I6VzBqIbBZhm"
      },
      "source": [
        "### 1.3 Conditional Probabilities (3 points)"
      ]
    },
    {
      "cell_type": "markdown",
      "source": [
        "*Topics: frequentist probabilities, conditional probabilities*\n",
        "\n",
        "Consider the probability table:\n",
        "\n",
        "| X | Y | p(X,Y) |\n",
        "|------|------| ----- |\n",
        "| Hot (0)   | Sun (0) | 0.4 |\n",
        "| Hot (0) | Rain (1) | 0.1 |\n",
        "| Cold (1)  | Sun (0) | 0.2 |\n",
        "| Cold (1)  | Rain (1) | 0.3 |\n",
        "\n",
        "\n",
        "\n",
        "a. Implement a sampling algorithm that samples $(X, Y)$ pairs."
      ],
      "metadata": {
        "id": "UZaBa9EkRtPW"
      }
    },
    {
      "cell_type": "code",
      "execution_count": null,
      "metadata": {
        "id": "G67EbSzgBhN3"
      },
      "outputs": [],
      "source": [
        "def return_random_sample_joint():\n",
        "    # Put your solution here\n",
        "    return NotImplementedError"
      ]
    },
    {
      "cell_type": "markdown",
      "metadata": {
        "id": "Htk-V2eZBkb8"
      },
      "source": [
        "b. Generate samples from $p(Y| X = 0)$ by removing (\"rejecting\") some samples generated by your above sampling algorithm. Use these to generate a histogram for the conditional distribution $p(Y| X=0)$."
      ]
    },
    {
      "cell_type": "code",
      "execution_count": null,
      "metadata": {
        "id": "-s0xKmTOCaSe"
      },
      "outputs": [],
      "source": [
        "# Put your solution here"
      ]
    },
    {
      "cell_type": "markdown",
      "metadata": {
        "id": "l_N7dMvZCcj-"
      },
      "source": [
        "\n",
        "c. Approximately how many samples do you need from the joint distribution to get stable (say, within 10%) results?"
      ]
    },
    {
      "cell_type": "markdown",
      "metadata": {
        "id": "fV9RxLSECfZQ"
      },
      "source": [
        "*Put your solution here*"
      ]
    },
    {
      "cell_type": "markdown",
      "metadata": {
        "id": "qAo2ahEmDLvl"
      },
      "source": [
        "d.  Calculate $p(Y|X=0)$ analytically. How does your sampling algorithm compare?"
      ]
    },
    {
      "cell_type": "markdown",
      "metadata": {
        "id": "eyc1gjz9DOfg"
      },
      "source": [
        "*Put your solution here*"
      ]
    },
    {
      "cell_type": "markdown",
      "source": [
        "\n",
        "\n",
        "Usage of AI: *COMMENT HERE*"
      ],
      "metadata": {
        "id": "rRgPrhbqXjMJ"
      }
    },
    {
      "cell_type": "markdown",
      "metadata": {
        "id": "KjWIRrlgDhXq"
      },
      "source": [
        "## Distributions (5 points)"
      ]
    },
    {
      "cell_type": "markdown",
      "metadata": {
        "id": "eM4tkritDr8C"
      },
      "source": [
        "### 2.1 Convolution of two normal distributions (3 points)"
      ]
    },
    {
      "cell_type": "markdown",
      "source": [
        "\n",
        "*Topics: normal distributions, variance, mean, combining distributions, sums of random variables*\n",
        "\n",
        "This exercise will demonstrate useful properties of normal distributions. A normal distribution $\\mathcal{N}(x|\\mu, \\sigma)$ is completely defined by its mean $\\mu$ and its standard deviation $\\sigma$. As shown in the previous exercise, its PDF can be written as\n",
        "$$ \\mathcal{N}(x|\\mu, \\sigma) = \\frac{1}{\\sqrt{2 \\pi}\\sigma} \\exp\\left( \\frac{-(x-\\mu)^2}{2 \\sigma^2} \\right) \\, .$$"
      ],
      "metadata": {
        "id": "mTb1CPZeSCsU"
      }
    },
    {
      "cell_type": "markdown",
      "source": [
        "#### a (1 point)\n",
        "Create two datasets $\\vec{x} = \\{x_1, x_2, \\dots, x_N\\}$ and $\\vec{y} = \\{y_1, y_2, \\dots, y_N\\}$ by drawing randomly from the PDF of the normal distribution. For $\\vec{x}$ draw from $\\mathcal{N}(x|\\mu=2, \\sigma=1)$ and for $\\vec{y}$ draw from $\\mathcal{N}(y|\\mu=4, \\sigma=2)$. In order to have enough statistics, let $N = 10000$. Vizualize $\\vec{x}$ and $\\vec{y}$ in histograms with 32 bins from -2 to 14.\n",
        "\n",
        "**Hint**: You can use `numpy.random.normal()` to draw $x$ values randomly from $\\mathcal{N}(x|\\mu, \\sigma)$. Use `matplotlib.pyplot` to plot the datasets in a histogram."
      ],
      "metadata": {
        "id": "uKNxqIbTSGLJ"
      }
    },
    {
      "cell_type": "code",
      "execution_count": null,
      "metadata": {
        "id": "4l6jUi51EFly"
      },
      "outputs": [],
      "source": [
        "# Put your solution here"
      ]
    },
    {
      "cell_type": "markdown",
      "metadata": {
        "id": "5_RTg6bZEIOh"
      },
      "source": [
        "#### b (1 point)\n",
        "Create a third dataset $\\vec{z} = \\{z_1, z_2, \\dots, z_N\\}$ where $z_i$ is the sum of two random numbers $x_i$ and $y_i$ that are drawn from $\\mathcal{N}(x|\\mu=2, \\sigma=1)$ and $\\mathcal{N}(y|\\mu=4, \\sigma=2)$, respectively. Plot the dataset. What do you observe? What does the distribution look like? How is its mean related to the two initial normal PDFs?"
      ]
    },
    {
      "cell_type": "code",
      "execution_count": null,
      "metadata": {
        "id": "wNOAh_9eEObh"
      },
      "outputs": [],
      "source": [
        "# Put your solution here"
      ]
    },
    {
      "cell_type": "markdown",
      "metadata": {
        "id": "PofC8uRuEUvY"
      },
      "source": [
        "#### c (1 point)\n",
        "Calculate the variance of the third dataset. Do you find a relation to the variances of $\\vec{x}$ and $\\vec{y}$?"
      ]
    },
    {
      "cell_type": "code",
      "execution_count": null,
      "metadata": {
        "id": "Xl8ndAPnEZwG"
      },
      "outputs": [],
      "source": [
        "# Put your solution here"
      ]
    },
    {
      "cell_type": "markdown",
      "metadata": {
        "id": "byCfIetfFN9l"
      },
      "source": [
        "### 2.2 Marginal normal distributions (2 points)"
      ]
    },
    {
      "cell_type": "markdown",
      "source": [
        "*Topics: multivariate normal & marginal distributions*\n",
        "\n",
        "Consider a multivariate Gaussian of the form\n",
        "$$P(\\mathbf{x}) = \\mathcal{N}(\\mathbf{x}|\\mathbf{\\mu}, \\mathbf{\\Sigma}) = \\frac{1}{(2\\pi)^{D/2} |\\mathbf{\\Sigma}|^{1/2}} \\exp\\left(-\\frac{1}{2} (\\mathbf{x}-\\boldsymbol{\\mu})^{T} \\mathbf{\\Sigma}^{-1}(\\mathbf{x}-\\boldsymbol{\\mu})\\right) \\, ,$$\n",
        "\n",
        "where $\\mathbf{x}$ and $\\boldsymbol{\\mu}$ are vectors with $D$ entries and $\\mathbf{\\Sigma}$ is a $D \\times D$ covariance matrix. $|\\mathbf{\\Sigma}|$ is the determinant of this matrix."
      ],
      "metadata": {
        "id": "U-9dg2SBSVuK"
      }
    },
    {
      "cell_type": "markdown",
      "metadata": {
        "id": "QJZ1D-BVFY_F"
      },
      "source": [
        "#### a (1 point)\n",
        "Consider the case where $D = 2$. We use the following three sets of ($\\boldsymbol{\\mu}$, $\\mathbf{\\Sigma}$) to create 2D contour- and 3D surface plots of the corresponding PDFs (with arbitrary contour levels)\n",
        "\n",
        "$$ \\boldsymbol{\\mu_1} = \\begin{pmatrix} 5 \\\\ 5 \\end{pmatrix} ~ \\mathbf{\\Sigma_1} = \\begin{pmatrix} 1 & 0 \\\\ 0 & 1 \\end{pmatrix} \\, ,$$\n",
        "\n",
        "$$ \\boldsymbol{\\mu_2} = \\begin{pmatrix} 5 \\\\ 5 \\end{pmatrix} ~ \\mathbf{\\Sigma_2} = \\begin{pmatrix} 1 & -0.5 \\\\ -0.5 & 1 \\end{pmatrix} \\, ,$$\n",
        "\n",
        "$$ \\boldsymbol{\\mu_3} = \\begin{pmatrix} 5 \\\\ 5 \\end{pmatrix} ~ \\mathbf{\\Sigma_3} = \\begin{pmatrix} 1 & 0.7 \\\\ 0.7 & 1 \\end{pmatrix} \\, .$$\n",
        "\n",
        "Implement the multivariate Gaussian yourself using numpy matrix multiplication."
      ]
    },
    {
      "cell_type": "code",
      "execution_count": null,
      "metadata": {
        "id": "semkOMLZFf18"
      },
      "outputs": [],
      "source": [
        "import numpy as np\n",
        "import matplotlib.pyplot as plt\n",
        "\n",
        "def mvgauss(x, mu, sigma):\n",
        "  raise NotImplementedError # Put your solution here\n",
        "\n",
        "mu = np.array([5, 5])\n",
        "sig1 = np.array([[1, 0.0], [0.0, 1]])\n",
        "sig2 = np.array([[1, -0.5], [-0.5, 1]])\n",
        "sig3 = np.array([[1, 0.7], [0.7, 1]])\n",
        "\n",
        "def create_plots(mu, sig1, sig2, sig3):\n",
        "    x = np.linspace(2, 8, 100)\n",
        "    y = np.linspace(2, 8, 100)\n",
        "\n",
        "    z1 = np.empty([len(x), len(y)])\n",
        "    z2 = np.empty([len(x), len(y)])\n",
        "    z3 = np.empty([len(x), len(y)])\n",
        "    z = [z1,z2,z3]\n",
        "\n",
        "    # collect plotting data\n",
        "    for i in range(0, len(x)):\n",
        "        for j in range(0, len(y)):\n",
        "            z1[i][j] = mvgauss(np.array([x[i], y[j]]), mu, sig1)\n",
        "            z2[i][j] = mvgauss(np.array([x[i], y[j]]), mu, sig2)\n",
        "            z3[i][j] = mvgauss(np.array([x[i], y[j]]), mu, sig3)\n",
        "\n",
        "    # contour plots\n",
        "    fig, axs = plt.subplots(1,3, figsize=(15,5))\n",
        "    for i, ax in enumerate(axs):\n",
        "      ax.contour(x,y,z[i])\n",
        "      ax.set_title(f'$\\mu_{i+1}$, $\\Sigma_{i+1}$')\n",
        "\n",
        "    # surface plots\n",
        "    xx,yy = np.meshgrid(x,y)\n",
        "    fig2 = plt.figure(figsize=(15,5))\n",
        "    for i in range(3):\n",
        "      ax = fig2.add_subplot(1, 3, i+1, projection='3d')\n",
        "      ax.plot_surface(xx,yy,z[i], cmap='viridis')\n",
        "\n",
        "create_plots(mu,sig1,sig2,sig3)"
      ]
    },
    {
      "cell_type": "markdown",
      "metadata": {
        "id": "xdkamzv7Fngo"
      },
      "source": [
        "#### b (1 point)\n",
        "The marginal distribution of a multivariate Gaussian is defined as\n",
        "\n",
        "$$ P(\\mathbf{x}_i) = \\int P(\\mathbf{x}_i, \\mathbf{x}_j) \\, d\\mathbf{x}_j \\, .$$\n",
        "\n",
        "Calculate the marginal distributions for the three multivariate Gaussians from above along the $x$ and $y$ axis. First do the calculation for one of the marginals by hand, and then use this to argue the answer for the other five marginals. Confirm your results using the `margins()` function from `scipy.stats.contingency`. How do the different marginal distributions compare?"
      ]
    },
    {
      "cell_type": "markdown",
      "metadata": {
        "id": "yWDCnIvaEyWo"
      },
      "source": [
        "*Put your solution here*"
      ]
    },
    {
      "cell_type": "code",
      "execution_count": null,
      "metadata": {
        "id": "NWL34R8AFqmA"
      },
      "outputs": [],
      "source": [
        "from scipy.stats.contingency import margins\n",
        "# Put your solution here"
      ]
    },
    {
      "cell_type": "markdown",
      "source": [
        "Usage of AI: *COMMENT HERE*"
      ],
      "metadata": {
        "id": "IgI3k1piXoqj"
      }
    },
    {
      "cell_type": "markdown",
      "metadata": {
        "id": "EoCJxznVUVlR"
      },
      "source": [
        "## Inference and Bayes nets (15 points)"
      ]
    },
    {
      "cell_type": "markdown",
      "source": [
        "### 3.1 Inverse Sampling (2 points)"
      ],
      "metadata": {
        "id": "SVBfLKDYUTeg"
      }
    },
    {
      "cell_type": "markdown",
      "source": [
        "*Topics: Inverse transform sampling*\n",
        "\n",
        "**Reading material: Murphy 23.2.1**"
      ],
      "metadata": {
        "id": "0hwLud_5YOwj"
      }
    },
    {
      "cell_type": "markdown",
      "source": [
        "(2 points) Consider the target exponential pdf $p(x)=\\lambda e^{-\\lambda x}$, where $\\lambda$ is the rate parameter. Define a function that, using the inverse transform method, generates samples from the exponential distribution.\n",
        "\n",
        "Choosing $\\lambda =0.5$ and a sample size of $1000$, plot the histogram of the sampled data and overlay the theoretical exponential distribution curve on top.\n",
        "\n",
        "Hint: You will need to use the function `np.random.uniform`"
      ],
      "metadata": {
        "id": "0nJh42SnUaVY"
      }
    },
    {
      "cell_type": "code",
      "source": [
        "def inverse_transform(rate, sample_size):\n",
        "  # YOUR CODE HERE\n",
        "  return\n"
      ],
      "metadata": {
        "id": "ZbeQBlh0W2BD"
      },
      "execution_count": null,
      "outputs": []
    },
    {
      "cell_type": "markdown",
      "source": [
        "Usage of AI: *COMMENT HERE*"
      ],
      "metadata": {
        "id": "v66ewHPkXLEH"
      }
    },
    {
      "cell_type": "markdown",
      "metadata": {
        "id": "C8vBFHv0RL4m"
      },
      "source": [
        "### 3.2 Metropolis Hastings (9 points)\n",
        "\n"
      ]
    },
    {
      "cell_type": "markdown",
      "metadata": {
        "id": "mDJu4y_mUhpH"
      },
      "source": [
        "*Topics: Multivariate normal, Metropolis Hastings and marginal distributionsm*\n",
        "\n",
        "**Reading material: Murphy 5.2.2, 5.2.2.1, 24.3**\n",
        "\n",
        "We will explore a 2-dim and bimodal probability density function."
      ]
    },
    {
      "cell_type": "code",
      "metadata": {
        "id": "ms-mRNnIUeke"
      },
      "source": [
        "# provided\n",
        "\n",
        "# The likelihood function is given\n",
        "\n",
        "def pdf_bimodal(x):\n",
        "    \"\"\"Bimodal pdf\"\"\"\n",
        "    sigma1 = 1.0\n",
        "    sigma2 = 0.5\n",
        "    pdf = 0.5/(np.sqrt(2*np.pi*sigma1**2))*np.exp(-0.5*((x-1.5)**2).sum()/sigma1**2)  +  0.5/(np.sqrt(2*np.pi*sigma2**2))*np.exp(-0.5*((x+1.0)**2).sum()/sigma2**2)\n",
        "    return pdf\n"
      ],
      "execution_count": null,
      "outputs": []
    },
    {
      "cell_type": "markdown",
      "metadata": {
        "id": "YZ3gWf2fsa9_"
      },
      "source": [
        "1. Write your own Metropolish Hastings algorithm. (4 points)\n",
        "\n",
        "- The proposal distribution is supposed to be a $D=2$ dimensional isotropic Gaussian with variance $\\sigma^2$.\n",
        "- Given some pdf, the algorithm should produce and return a given number of chain points $N$, starting with some initial vector $\\mathbf{x}_0$. The result should be returned as a $N\\times D$ array.\n",
        "- The algorithm should also evaluate and print the acceptance rate (fraction of accepted transitions over total number of steps).\n",
        "\n",
        "Hints: Use `np.random.randn`, `np.random.rand`, `np.array` where appropriate. Write the algorithm such that it works for any dimensions of $\\mathbf{x}_0$."
      ]
    },
    {
      "cell_type": "code",
      "metadata": {
        "id": "yDVjKBXBaZ-e"
      },
      "source": [
        "def MetropolisHastings(pdf, N, x_init, sigma):\n",
        "    # YOUR CODE HERE\n",
        "    return"
      ],
      "execution_count": null,
      "outputs": []
    },
    {
      "cell_type": "markdown",
      "metadata": {
        "id": "FY5d0KFQZeA5"
      },
      "source": [
        "2. Explore the above bimodal distribution. (3 points)\n",
        "- Show resulting chain for $N=10000$ and for five proposal widths in the range $\\sigma \\in [0.01, 100.]$.  \n",
        "- Based on the acceptance rate and visual inspection of the result, argue what parameters work here best.\n",
        "- What are the problems with too low or too high values of $\\sigma$?\n",
        "- Also discuss what happens when you start with initial values far away from the optimum. This initial phase is called \"burn in phase\".\n",
        "\n",
        "Hints: use `plt.scatter`"
      ]
    },
    {
      "cell_type": "code",
      "metadata": {
        "id": "kRExc3L6WqpP"
      },
      "source": [
        "# YOUR CODE HERE"
      ],
      "execution_count": null,
      "outputs": []
    },
    {
      "cell_type": "markdown",
      "metadata": {
        "id": "d8un8O9EZ2rD"
      },
      "source": [
        "3. Compare your results with the true distribution using 1-dim histograms (both in $x_1$ and $x_2$ direction) (2 points)\n",
        "\n",
        "- Discuss qualitatively whether the true distribution can be recovered for reasonable values of $\\sigma$.\n",
        "- Again, what happens if $\\sigma$ is too large or too small?  Is what you see supporting your observations in the previous question?\n",
        "\n",
        "Note: you have to write your own marginal distributions for `pdf_bimodal`, projected either on `x1` or on `x2` (do these two marginals differ in our case?).\n",
        "\n",
        "Hints: use `plt.hist` with 100 bins and `density = True`"
      ]
    },
    {
      "cell_type": "code",
      "metadata": {
        "id": "Sdco1uHyYRCj"
      },
      "source": [
        "# YOUR CODE HERE"
      ],
      "execution_count": null,
      "outputs": []
    },
    {
      "cell_type": "markdown",
      "source": [
        "Usage of AI: *COMMENT HERE*"
      ],
      "metadata": {
        "id": "SBWddiutdVfP"
      }
    },
    {
      "cell_type": "markdown",
      "source": [
        "### 3.3 Conditional independence and reparametrization (4 points)"
      ],
      "metadata": {
        "id": "N8Dx6TFFRqBf"
      }
    },
    {
      "cell_type": "markdown",
      "source": [
        "*Topics: Independence and Conditional independence*\n",
        "\n",
        "**Reading material: Murphy 10.1.2**"
      ],
      "metadata": {
        "id": "LD37nxr1TqL-"
      }
    },
    {
      "cell_type": "markdown",
      "source": [
        "1. Reparametrization (2 points). In class we introduced the KL divergence\n",
        "$$\n",
        "D_{KL}(q \\mid p) \\equiv \\int dx\\; q(x) \\ln\\frac {q(x)}{p(x)}\n",
        "$$\n",
        "Show that it is reparametrization invariant, if we replace $x$ with another random variable $y = f(x)$, where $f(x)$ is strictly monotonic and differentiable.  Start by quoting $q(y)$ and $p(y)$ in terms of $q(x)$ and $p(x)$.  Hint: Use change of variables!"
      ],
      "metadata": {
        "id": "89Kk7KltEnCK"
      }
    },
    {
      "cell_type": "markdown",
      "source": [
        "YOUR SOLUTION GOES HERE!"
      ],
      "metadata": {
        "id": "UoXqA2goU-T5"
      }
    },
    {
      "cell_type": "markdown",
      "source": [
        "2. Conditional independence (2 points). Consider the graphical model defined by $p(x, y, z) = p(x \\mid y) p(y \\mid z) p(z)$. Show explicitly, by using the relevant definitions, that\n",
        "- $x$ and $z$ are conditionally independent given $y$\n",
        "- $z$ and $x$ are conditionally independent given $y$"
      ],
      "metadata": {
        "id": "nxf-zIJ6FM6B"
      }
    },
    {
      "cell_type": "markdown",
      "source": [
        "YOUR SOLUTION GOES HERE!"
      ],
      "metadata": {
        "id": "tCTJiRe5VHQm"
      }
    },
    {
      "cell_type": "markdown",
      "source": [
        "Usage of AI: *COMMENT HERE*"
      ],
      "metadata": {
        "id": "1311xRyDK3iF"
      }
    }
  ],
  "metadata": {
    "colab": {
      "provenance": [],
      "collapsed_sections": [
        "oXoDp4BBAz7h",
        "fuhr37WirYqs",
        "I6VzBqIbBZhm",
        "eM4tkritDr8C",
        "byCfIetfFN9l",
        "SVBfLKDYUTeg",
        "C8vBFHv0RL4m",
        "N8Dx6TFFRqBf"
      ],
      "include_colab_link": true
    },
    "kernelspec": {
      "display_name": "Python 3",
      "name": "python3"
    },
    "language_info": {
      "name": "python"
    }
  },
  "nbformat": 4,
  "nbformat_minor": 0
}