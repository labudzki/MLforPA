{
  "cells": [
    {
      "cell_type": "markdown",
      "metadata": {
        "id": "view-in-github",
        "colab_type": "text"
      },
      "source": [
        "<a href=\"https://colab.research.google.com/github/labudzki/MLforPA/blob/main/1_ML4PhA_2025_Exercise_sheet_1_v2.ipynb\" target=\"_parent\"><img src=\"https://colab.research.google.com/assets/colab-badge.svg\" alt=\"Open In Colab\"/></a>"
      ]
    },
    {
      "cell_type": "markdown",
      "metadata": {
        "id": "S2YQld0A97U2"
      },
      "source": [
        "# **Problem set 1** - Machine Learning for Physics and Astronomy 2024/2025, UvA"
      ]
    },
    {
      "cell_type": "markdown",
      "source": [
        "- The total sheet gives 27 points\n",
        "- Deadline for submitting your results is **Tue, 8/04/2025, 23:59**\n",
        "- **IMPORTANT**: Specify if/how AI was used to solve the exercises by filling the corresponding \"Usage of AI\" comments. Anything between \"No\" (if applicable) and a short paragraph reflecting how AI was used is fine. Failing to do so faithfully will result in the substraction of points."
      ],
      "metadata": {
        "id": "TfQzLobWWpOF"
      }
    },
    {
      "cell_type": "markdown",
      "metadata": {
        "id": "I1MDL1Cj9_GC"
      },
      "source": [
        "## Probability theory (7 points)\n"
      ]
    },
    {
      "cell_type": "markdown",
      "metadata": {
        "id": "oXoDp4BBAz7h"
      },
      "source": [
        "### 1.1 Monty Hall Problem (2 points)"
      ]
    },
    {
      "cell_type": "markdown",
      "source": [
        "*Topics: joined and marginal distributions, probability tables*\n",
        "\n",
        "On a game show, a contestant is told the following rules:\n",
        "\n",
        "\n",
        "> There are three doors, labelled 1, 2, 3. A single prize has been hidden behind one of them. You get to select one door. Initially your chosen door will not be opened. Instead, the gameshow host will open one of the other two doors, and *he will do so in such a way as not to reveal the prize.* For example, if you first choose door 1, he will then open one of doors 2 and 3, and it is guaranteed that he will choose which one to open so that the prize will not be revealed. At this point, you will be given a fresh choice of door: you can either stick with your first choice, or you can switch to the other closed door. All the doors will then be opened and you will receive whatever is behind your final choice of door.\n",
        "\n",
        "Imagine that the contestant chooses door 1 first; then the gameshow host opens door 3, revealing nothing\n",
        "behind the door, as promised. Should the contestant (a) stick with door 1, or (b) switch to door 2, or (c) does it make no difference? You may assume that initially, the prize is equally likely to be behind any of the 3 doors.\n",
        "\n",
        "Use probability tables to justify your answer."
      ],
      "metadata": {
        "id": "Fo815Wo7RdAS"
      }
    },
    {
      "cell_type": "markdown",
      "metadata": {
        "id": "DQsY2HqsA5KY"
      },
      "source": [
        "The contestant should switch to door 2 (b). When picking the first door, the contestant had a 1/3 probability of choosing the correct door. Once one door is revealed to have nothing it in, the contestant will have a 2/3 probability of getting the prize if they switch their response.\n",
        "\n",
        "\n",
        "\n"
      ]
    },
    {
      "cell_type": "code",
      "source": [
        "import pandas as pd\n",
        "\n",
        "initial_choice = [1, 2, 3]\n",
        "prize_door = [1, 2, 3]\n",
        "\n",
        "data = []\n",
        "\n",
        "# Generate all combinations\n",
        "for choice in initial_choice:\n",
        "    for prize in prize_door:\n",
        "        if choice == prize:\n",
        "          result1 = \"Car\"\n",
        "          result2 = \"No Car\"\n",
        "        else:\n",
        "          result1 = \"No Car\"\n",
        "          result2 = \"Car\"\n",
        "\n",
        "        data.append([choice, prize, result1, result2])\n",
        "\n",
        "df = pd.DataFrame(data, columns=[\"Initial Choice\", \"Prize Door\", \"Dont switch\", \"Switch\"])\n",
        "\n",
        "# Calculate total probabilities and add to table\n",
        "total_cases = len(df)\n",
        "noswitch_wins = df[\"Dont switch\"].value_counts().get(\"Car\", 0)\n",
        "switch_wins = df[\"Switch\"].value_counts().get(\"Car\", 0)\n",
        "noswitch_prob = noswitch_wins / total_cases\n",
        "switch_prob = switch_wins / total_cases\n",
        "\n",
        "probability_row = pd.DataFrame([[ \"-\", \"-\", f\"{noswitch_prob:.2%}\", f\"{switch_prob:.2%}\"]],\n",
        "                               columns=df.columns)\n",
        "\n",
        "df = pd.concat([df, probability_row], ignore_index=True)\n",
        "\n",
        "df\n"
      ],
      "metadata": {
        "colab": {
          "base_uri": "https://localhost:8080/",
          "height": 359
        },
        "id": "-aOSu62HprDs",
        "outputId": "19c74d80-7d77-4220-f6be-c08406e0a7e1"
      },
      "execution_count": 10,
      "outputs": [
        {
          "output_type": "execute_result",
          "data": {
            "text/plain": [
              "  Initial Choice Prize Door Dont switch  Switch\n",
              "0              1          1         Car  No Car\n",
              "1              1          2      No Car     Car\n",
              "2              1          3      No Car     Car\n",
              "3              2          1      No Car     Car\n",
              "4              2          2         Car  No Car\n",
              "5              2          3      No Car     Car\n",
              "6              3          1      No Car     Car\n",
              "7              3          2      No Car     Car\n",
              "8              3          3         Car  No Car\n",
              "9              -          -      33.33%  66.67%"
            ],
            "text/html": [
              "\n",
              "  <div id=\"df-3e7e4cfb-fbbe-4ae4-8935-58f73ad52898\" class=\"colab-df-container\">\n",
              "    <div>\n",
              "<style scoped>\n",
              "    .dataframe tbody tr th:only-of-type {\n",
              "        vertical-align: middle;\n",
              "    }\n",
              "\n",
              "    .dataframe tbody tr th {\n",
              "        vertical-align: top;\n",
              "    }\n",
              "\n",
              "    .dataframe thead th {\n",
              "        text-align: right;\n",
              "    }\n",
              "</style>\n",
              "<table border=\"1\" class=\"dataframe\">\n",
              "  <thead>\n",
              "    <tr style=\"text-align: right;\">\n",
              "      <th></th>\n",
              "      <th>Initial Choice</th>\n",
              "      <th>Prize Door</th>\n",
              "      <th>Dont switch</th>\n",
              "      <th>Switch</th>\n",
              "    </tr>\n",
              "  </thead>\n",
              "  <tbody>\n",
              "    <tr>\n",
              "      <th>0</th>\n",
              "      <td>1</td>\n",
              "      <td>1</td>\n",
              "      <td>Car</td>\n",
              "      <td>No Car</td>\n",
              "    </tr>\n",
              "    <tr>\n",
              "      <th>1</th>\n",
              "      <td>1</td>\n",
              "      <td>2</td>\n",
              "      <td>No Car</td>\n",
              "      <td>Car</td>\n",
              "    </tr>\n",
              "    <tr>\n",
              "      <th>2</th>\n",
              "      <td>1</td>\n",
              "      <td>3</td>\n",
              "      <td>No Car</td>\n",
              "      <td>Car</td>\n",
              "    </tr>\n",
              "    <tr>\n",
              "      <th>3</th>\n",
              "      <td>2</td>\n",
              "      <td>1</td>\n",
              "      <td>No Car</td>\n",
              "      <td>Car</td>\n",
              "    </tr>\n",
              "    <tr>\n",
              "      <th>4</th>\n",
              "      <td>2</td>\n",
              "      <td>2</td>\n",
              "      <td>Car</td>\n",
              "      <td>No Car</td>\n",
              "    </tr>\n",
              "    <tr>\n",
              "      <th>5</th>\n",
              "      <td>2</td>\n",
              "      <td>3</td>\n",
              "      <td>No Car</td>\n",
              "      <td>Car</td>\n",
              "    </tr>\n",
              "    <tr>\n",
              "      <th>6</th>\n",
              "      <td>3</td>\n",
              "      <td>1</td>\n",
              "      <td>No Car</td>\n",
              "      <td>Car</td>\n",
              "    </tr>\n",
              "    <tr>\n",
              "      <th>7</th>\n",
              "      <td>3</td>\n",
              "      <td>2</td>\n",
              "      <td>No Car</td>\n",
              "      <td>Car</td>\n",
              "    </tr>\n",
              "    <tr>\n",
              "      <th>8</th>\n",
              "      <td>3</td>\n",
              "      <td>3</td>\n",
              "      <td>Car</td>\n",
              "      <td>No Car</td>\n",
              "    </tr>\n",
              "    <tr>\n",
              "      <th>9</th>\n",
              "      <td>-</td>\n",
              "      <td>-</td>\n",
              "      <td>33.33%</td>\n",
              "      <td>66.67%</td>\n",
              "    </tr>\n",
              "  </tbody>\n",
              "</table>\n",
              "</div>\n",
              "    <div class=\"colab-df-buttons\">\n",
              "\n",
              "  <div class=\"colab-df-container\">\n",
              "    <button class=\"colab-df-convert\" onclick=\"convertToInteractive('df-3e7e4cfb-fbbe-4ae4-8935-58f73ad52898')\"\n",
              "            title=\"Convert this dataframe to an interactive table.\"\n",
              "            style=\"display:none;\">\n",
              "\n",
              "  <svg xmlns=\"http://www.w3.org/2000/svg\" height=\"24px\" viewBox=\"0 -960 960 960\">\n",
              "    <path d=\"M120-120v-720h720v720H120Zm60-500h600v-160H180v160Zm220 220h160v-160H400v160Zm0 220h160v-160H400v160ZM180-400h160v-160H180v160Zm440 0h160v-160H620v160ZM180-180h160v-160H180v160Zm440 0h160v-160H620v160Z\"/>\n",
              "  </svg>\n",
              "    </button>\n",
              "\n",
              "  <style>\n",
              "    .colab-df-container {\n",
              "      display:flex;\n",
              "      gap: 12px;\n",
              "    }\n",
              "\n",
              "    .colab-df-convert {\n",
              "      background-color: #E8F0FE;\n",
              "      border: none;\n",
              "      border-radius: 50%;\n",
              "      cursor: pointer;\n",
              "      display: none;\n",
              "      fill: #1967D2;\n",
              "      height: 32px;\n",
              "      padding: 0 0 0 0;\n",
              "      width: 32px;\n",
              "    }\n",
              "\n",
              "    .colab-df-convert:hover {\n",
              "      background-color: #E2EBFA;\n",
              "      box-shadow: 0px 1px 2px rgba(60, 64, 67, 0.3), 0px 1px 3px 1px rgba(60, 64, 67, 0.15);\n",
              "      fill: #174EA6;\n",
              "    }\n",
              "\n",
              "    .colab-df-buttons div {\n",
              "      margin-bottom: 4px;\n",
              "    }\n",
              "\n",
              "    [theme=dark] .colab-df-convert {\n",
              "      background-color: #3B4455;\n",
              "      fill: #D2E3FC;\n",
              "    }\n",
              "\n",
              "    [theme=dark] .colab-df-convert:hover {\n",
              "      background-color: #434B5C;\n",
              "      box-shadow: 0px 1px 3px 1px rgba(0, 0, 0, 0.15);\n",
              "      filter: drop-shadow(0px 1px 2px rgba(0, 0, 0, 0.3));\n",
              "      fill: #FFFFFF;\n",
              "    }\n",
              "  </style>\n",
              "\n",
              "    <script>\n",
              "      const buttonEl =\n",
              "        document.querySelector('#df-3e7e4cfb-fbbe-4ae4-8935-58f73ad52898 button.colab-df-convert');\n",
              "      buttonEl.style.display =\n",
              "        google.colab.kernel.accessAllowed ? 'block' : 'none';\n",
              "\n",
              "      async function convertToInteractive(key) {\n",
              "        const element = document.querySelector('#df-3e7e4cfb-fbbe-4ae4-8935-58f73ad52898');\n",
              "        const dataTable =\n",
              "          await google.colab.kernel.invokeFunction('convertToInteractive',\n",
              "                                                    [key], {});\n",
              "        if (!dataTable) return;\n",
              "\n",
              "        const docLinkHtml = 'Like what you see? Visit the ' +\n",
              "          '<a target=\"_blank\" href=https://colab.research.google.com/notebooks/data_table.ipynb>data table notebook</a>'\n",
              "          + ' to learn more about interactive tables.';\n",
              "        element.innerHTML = '';\n",
              "        dataTable['output_type'] = 'display_data';\n",
              "        await google.colab.output.renderOutput(dataTable, element);\n",
              "        const docLink = document.createElement('div');\n",
              "        docLink.innerHTML = docLinkHtml;\n",
              "        element.appendChild(docLink);\n",
              "      }\n",
              "    </script>\n",
              "  </div>\n",
              "\n",
              "\n",
              "<div id=\"df-3e25cc41-11df-4dbb-bc9a-d5cbd018499e\">\n",
              "  <button class=\"colab-df-quickchart\" onclick=\"quickchart('df-3e25cc41-11df-4dbb-bc9a-d5cbd018499e')\"\n",
              "            title=\"Suggest charts\"\n",
              "            style=\"display:none;\">\n",
              "\n",
              "<svg xmlns=\"http://www.w3.org/2000/svg\" height=\"24px\"viewBox=\"0 0 24 24\"\n",
              "     width=\"24px\">\n",
              "    <g>\n",
              "        <path d=\"M19 3H5c-1.1 0-2 .9-2 2v14c0 1.1.9 2 2 2h14c1.1 0 2-.9 2-2V5c0-1.1-.9-2-2-2zM9 17H7v-7h2v7zm4 0h-2V7h2v10zm4 0h-2v-4h2v4z\"/>\n",
              "    </g>\n",
              "</svg>\n",
              "  </button>\n",
              "\n",
              "<style>\n",
              "  .colab-df-quickchart {\n",
              "      --bg-color: #E8F0FE;\n",
              "      --fill-color: #1967D2;\n",
              "      --hover-bg-color: #E2EBFA;\n",
              "      --hover-fill-color: #174EA6;\n",
              "      --disabled-fill-color: #AAA;\n",
              "      --disabled-bg-color: #DDD;\n",
              "  }\n",
              "\n",
              "  [theme=dark] .colab-df-quickchart {\n",
              "      --bg-color: #3B4455;\n",
              "      --fill-color: #D2E3FC;\n",
              "      --hover-bg-color: #434B5C;\n",
              "      --hover-fill-color: #FFFFFF;\n",
              "      --disabled-bg-color: #3B4455;\n",
              "      --disabled-fill-color: #666;\n",
              "  }\n",
              "\n",
              "  .colab-df-quickchart {\n",
              "    background-color: var(--bg-color);\n",
              "    border: none;\n",
              "    border-radius: 50%;\n",
              "    cursor: pointer;\n",
              "    display: none;\n",
              "    fill: var(--fill-color);\n",
              "    height: 32px;\n",
              "    padding: 0;\n",
              "    width: 32px;\n",
              "  }\n",
              "\n",
              "  .colab-df-quickchart:hover {\n",
              "    background-color: var(--hover-bg-color);\n",
              "    box-shadow: 0 1px 2px rgba(60, 64, 67, 0.3), 0 1px 3px 1px rgba(60, 64, 67, 0.15);\n",
              "    fill: var(--button-hover-fill-color);\n",
              "  }\n",
              "\n",
              "  .colab-df-quickchart-complete:disabled,\n",
              "  .colab-df-quickchart-complete:disabled:hover {\n",
              "    background-color: var(--disabled-bg-color);\n",
              "    fill: var(--disabled-fill-color);\n",
              "    box-shadow: none;\n",
              "  }\n",
              "\n",
              "  .colab-df-spinner {\n",
              "    border: 2px solid var(--fill-color);\n",
              "    border-color: transparent;\n",
              "    border-bottom-color: var(--fill-color);\n",
              "    animation:\n",
              "      spin 1s steps(1) infinite;\n",
              "  }\n",
              "\n",
              "  @keyframes spin {\n",
              "    0% {\n",
              "      border-color: transparent;\n",
              "      border-bottom-color: var(--fill-color);\n",
              "      border-left-color: var(--fill-color);\n",
              "    }\n",
              "    20% {\n",
              "      border-color: transparent;\n",
              "      border-left-color: var(--fill-color);\n",
              "      border-top-color: var(--fill-color);\n",
              "    }\n",
              "    30% {\n",
              "      border-color: transparent;\n",
              "      border-left-color: var(--fill-color);\n",
              "      border-top-color: var(--fill-color);\n",
              "      border-right-color: var(--fill-color);\n",
              "    }\n",
              "    40% {\n",
              "      border-color: transparent;\n",
              "      border-right-color: var(--fill-color);\n",
              "      border-top-color: var(--fill-color);\n",
              "    }\n",
              "    60% {\n",
              "      border-color: transparent;\n",
              "      border-right-color: var(--fill-color);\n",
              "    }\n",
              "    80% {\n",
              "      border-color: transparent;\n",
              "      border-right-color: var(--fill-color);\n",
              "      border-bottom-color: var(--fill-color);\n",
              "    }\n",
              "    90% {\n",
              "      border-color: transparent;\n",
              "      border-bottom-color: var(--fill-color);\n",
              "    }\n",
              "  }\n",
              "</style>\n",
              "\n",
              "  <script>\n",
              "    async function quickchart(key) {\n",
              "      const quickchartButtonEl =\n",
              "        document.querySelector('#' + key + ' button');\n",
              "      quickchartButtonEl.disabled = true;  // To prevent multiple clicks.\n",
              "      quickchartButtonEl.classList.add('colab-df-spinner');\n",
              "      try {\n",
              "        const charts = await google.colab.kernel.invokeFunction(\n",
              "            'suggestCharts', [key], {});\n",
              "      } catch (error) {\n",
              "        console.error('Error during call to suggestCharts:', error);\n",
              "      }\n",
              "      quickchartButtonEl.classList.remove('colab-df-spinner');\n",
              "      quickchartButtonEl.classList.add('colab-df-quickchart-complete');\n",
              "    }\n",
              "    (() => {\n",
              "      let quickchartButtonEl =\n",
              "        document.querySelector('#df-3e25cc41-11df-4dbb-bc9a-d5cbd018499e button');\n",
              "      quickchartButtonEl.style.display =\n",
              "        google.colab.kernel.accessAllowed ? 'block' : 'none';\n",
              "    })();\n",
              "  </script>\n",
              "</div>\n",
              "\n",
              "  <div id=\"id_1ccbaf6a-092a-4de7-bb67-93ed9547ce0b\">\n",
              "    <style>\n",
              "      .colab-df-generate {\n",
              "        background-color: #E8F0FE;\n",
              "        border: none;\n",
              "        border-radius: 50%;\n",
              "        cursor: pointer;\n",
              "        display: none;\n",
              "        fill: #1967D2;\n",
              "        height: 32px;\n",
              "        padding: 0 0 0 0;\n",
              "        width: 32px;\n",
              "      }\n",
              "\n",
              "      .colab-df-generate:hover {\n",
              "        background-color: #E2EBFA;\n",
              "        box-shadow: 0px 1px 2px rgba(60, 64, 67, 0.3), 0px 1px 3px 1px rgba(60, 64, 67, 0.15);\n",
              "        fill: #174EA6;\n",
              "      }\n",
              "\n",
              "      [theme=dark] .colab-df-generate {\n",
              "        background-color: #3B4455;\n",
              "        fill: #D2E3FC;\n",
              "      }\n",
              "\n",
              "      [theme=dark] .colab-df-generate:hover {\n",
              "        background-color: #434B5C;\n",
              "        box-shadow: 0px 1px 3px 1px rgba(0, 0, 0, 0.15);\n",
              "        filter: drop-shadow(0px 1px 2px rgba(0, 0, 0, 0.3));\n",
              "        fill: #FFFFFF;\n",
              "      }\n",
              "    </style>\n",
              "    <button class=\"colab-df-generate\" onclick=\"generateWithVariable('df')\"\n",
              "            title=\"Generate code using this dataframe.\"\n",
              "            style=\"display:none;\">\n",
              "\n",
              "  <svg xmlns=\"http://www.w3.org/2000/svg\" height=\"24px\"viewBox=\"0 0 24 24\"\n",
              "       width=\"24px\">\n",
              "    <path d=\"M7,19H8.4L18.45,9,17,7.55,7,17.6ZM5,21V16.75L18.45,3.32a2,2,0,0,1,2.83,0l1.4,1.43a1.91,1.91,0,0,1,.58,1.4,1.91,1.91,0,0,1-.58,1.4L9.25,21ZM18.45,9,17,7.55Zm-12,3A5.31,5.31,0,0,0,4.9,8.1,5.31,5.31,0,0,0,1,6.5,5.31,5.31,0,0,0,4.9,4.9,5.31,5.31,0,0,0,6.5,1,5.31,5.31,0,0,0,8.1,4.9,5.31,5.31,0,0,0,12,6.5,5.46,5.46,0,0,0,6.5,12Z\"/>\n",
              "  </svg>\n",
              "    </button>\n",
              "    <script>\n",
              "      (() => {\n",
              "      const buttonEl =\n",
              "        document.querySelector('#id_1ccbaf6a-092a-4de7-bb67-93ed9547ce0b button.colab-df-generate');\n",
              "      buttonEl.style.display =\n",
              "        google.colab.kernel.accessAllowed ? 'block' : 'none';\n",
              "\n",
              "      buttonEl.onclick = () => {\n",
              "        google.colab.notebook.generateWithVariable('df');\n",
              "      }\n",
              "      })();\n",
              "    </script>\n",
              "  </div>\n",
              "\n",
              "    </div>\n",
              "  </div>\n"
            ],
            "application/vnd.google.colaboratory.intrinsic+json": {
              "type": "dataframe",
              "variable_name": "df",
              "summary": "{\n  \"name\": \"df\",\n  \"rows\": 10,\n  \"fields\": [\n    {\n      \"column\": \"Initial Choice\",\n      \"properties\": {\n        \"dtype\": \"category\",\n        \"num_unique_values\": 4,\n        \"samples\": [\n          2,\n          \"-\",\n          1\n        ],\n        \"semantic_type\": \"\",\n        \"description\": \"\"\n      }\n    },\n    {\n      \"column\": \"Prize Door\",\n      \"properties\": {\n        \"dtype\": \"category\",\n        \"num_unique_values\": 4,\n        \"samples\": [\n          2,\n          \"-\",\n          1\n        ],\n        \"semantic_type\": \"\",\n        \"description\": \"\"\n      }\n    },\n    {\n      \"column\": \"Dont switch\",\n      \"properties\": {\n        \"dtype\": \"category\",\n        \"num_unique_values\": 3,\n        \"samples\": [\n          \"Car\",\n          \"No Car\",\n          \"33.33%\"\n        ],\n        \"semantic_type\": \"\",\n        \"description\": \"\"\n      }\n    },\n    {\n      \"column\": \"Switch\",\n      \"properties\": {\n        \"dtype\": \"category\",\n        \"num_unique_values\": 3,\n        \"samples\": [\n          \"No Car\",\n          \"Car\",\n          \"66.67%\"\n        ],\n        \"semantic_type\": \"\",\n        \"description\": \"\"\n      }\n    }\n  ]\n}"
            }
          },
          "metadata": {},
          "execution_count": 10
        }
      ]
    },
    {
      "cell_type": "markdown",
      "source": [
        "Usage of AI: *COMMENT HERE*\n",
        "\n",
        "Some help with dataframe syntax because I'm not super familiar with it."
      ],
      "metadata": {
        "id": "t3nkfOYUXeDZ"
      }
    },
    {
      "cell_type": "markdown",
      "metadata": {
        "id": "fuhr37WirYqs"
      },
      "source": [
        "### 1.2 Extended Monty Hall Problem (2 points)"
      ]
    },
    {
      "cell_type": "markdown",
      "source": [
        "*Topics: joined and marginal distributions, probability tables*\n",
        "\n",
        "Consider an extended version of the Monty Hall problem. There are now four doors, one with the prize behind it, one with a dog behind it and two with nothing behind them (in random order). The contestant can again randomly choose one door, after which Monty will open two of the other doors not revealing the prize. *Importantly*, if Monty has the choice to reveal the dog he will always do so.\n",
        "\n",
        "Say the contestant chooses door 1, and Monty afterwards reveals an empty door and the dog and offers the contestant to switch doors. What is the probability to win the prize *if the contestant chooses to switch*?\n",
        "\n",
        "Use probability tables to justify your answer."
      ],
      "metadata": {
        "id": "HIzpISlMRhir"
      }
    },
    {
      "cell_type": "markdown",
      "metadata": {
        "id": "lNwqd_ulxBeQ"
      },
      "source": [
        "If the contestant switches, they have a 3/4 probability of winning the prize."
      ]
    },
    {
      "cell_type": "code",
      "source": [
        "\n",
        "# If the contestant chooses the dog door:\n",
        "  # Monty will reveal two empty doors.\n",
        "  # If they switch, they will win the car (since the last remaining door will have the car).\n",
        "# If the contestant chooses the prize door:\n",
        "  # Monty will reveal two empty doors (because he can't reveal the dog or the car).\n",
        "  # If they switch, they will get the dog (since the last remaining door will have the dog).\n",
        "# If the contestant chooses an empty door:\n",
        "  # Monty will reveal the dog door and the other empty door.\n",
        "  # If they switch, they will win the car (since the remaining door will have the car).\n",
        "\n",
        "initial_choice = [1, 2, 3, 4]\n",
        "prize_door = [1, 2, 3, 4]\n",
        "dog_door = [1, 2, 3, 4]\n",
        "\n",
        "data = []\n",
        "\n",
        "# Generate all combinations\n",
        "for choice in initial_choice:\n",
        "    for dog in dog_door:\n",
        "      for prize in prize_door:\n",
        "        # print(choice, prize)\n",
        "        if choice == dog:\n",
        "          revealed_door1 = revealed_door2 = \"Dog\"\n",
        "          noswitch_result = \"Empty\"\n",
        "          switch_result = \"Car\"\n",
        "        if choice == prize:\n",
        "          revealed_door1 = revealed_door2 = \"Empty\"\n",
        "          noswitch_result = \"Car\"\n",
        "          switch_result = \"Dog\"\n",
        "        else:\n",
        "          revealed_door1 = \"Dog\"\n",
        "          revealed_door2 = \"Empty\"\n",
        "          noswitch_result = \"Empty\"\n",
        "          switch_result = \"Car\"\n",
        "\n",
        "        data.append([choice, prize, revealed_door1, revealed_door2, noswitch_result, switch_result])\n",
        "\n",
        "df = pd.DataFrame(data, columns=[\"Initial Choice\", \"Prize Door\", \"Revealed door 1\", \"Revealed door 2\", \"Dont switch\", \"Switch\"])\n",
        "\n",
        "# Calculate total probabilities and add to table\n",
        "total_cases = len(df)\n",
        "noswitch_wins = df[\"Dont switch\"].value_counts().get(\"Car\", 0)\n",
        "switch_wins = df[\"Switch\"].value_counts().get(\"Car\", 0)\n",
        "noswitch_prob = noswitch_wins / total_cases\n",
        "switch_prob = switch_wins / total_cases\n",
        "\n",
        "probability_row = pd.DataFrame([[ \"-\", \"-\", \"-\", \"-\", f\"{noswitch_prob:.2%}\", f\"{switch_prob:.2%}\"]],\n",
        "                               columns=df.columns)\n",
        "\n",
        "df = pd.concat([df, probability_row], ignore_index=True)\n",
        "\n",
        "df"
      ],
      "metadata": {
        "id": "7bhZ5F7Ht0oa",
        "outputId": "bc6012c0-66f5-4054-af86-6249534a1720",
        "colab": {
          "base_uri": "https://localhost:8080/",
          "height": 419
        }
      },
      "execution_count": 23,
      "outputs": [
        {
          "output_type": "execute_result",
          "data": {
            "text/plain": [
              "   Initial Choice Prize Door Revealed door 1 Revealed door 2 Dont switch  \\\n",
              "0               1          1           Empty           Empty         Car   \n",
              "1               1          2             Dog           Empty       Empty   \n",
              "2               1          3             Dog           Empty       Empty   \n",
              "3               1          4             Dog           Empty       Empty   \n",
              "4               1          1           Empty           Empty         Car   \n",
              "..            ...        ...             ...             ...         ...   \n",
              "60              4          1             Dog           Empty       Empty   \n",
              "61              4          2             Dog           Empty       Empty   \n",
              "62              4          3             Dog           Empty       Empty   \n",
              "63              4          4           Empty           Empty         Car   \n",
              "64              -          -               -               -      25.00%   \n",
              "\n",
              "    Switch  \n",
              "0      Dog  \n",
              "1      Car  \n",
              "2      Car  \n",
              "3      Car  \n",
              "4      Dog  \n",
              "..     ...  \n",
              "60     Car  \n",
              "61     Car  \n",
              "62     Car  \n",
              "63     Dog  \n",
              "64  75.00%  \n",
              "\n",
              "[65 rows x 6 columns]"
            ],
            "text/html": [
              "\n",
              "  <div id=\"df-9db56e55-bd95-4a22-bd14-5049e4f9b77d\" class=\"colab-df-container\">\n",
              "    <div>\n",
              "<style scoped>\n",
              "    .dataframe tbody tr th:only-of-type {\n",
              "        vertical-align: middle;\n",
              "    }\n",
              "\n",
              "    .dataframe tbody tr th {\n",
              "        vertical-align: top;\n",
              "    }\n",
              "\n",
              "    .dataframe thead th {\n",
              "        text-align: right;\n",
              "    }\n",
              "</style>\n",
              "<table border=\"1\" class=\"dataframe\">\n",
              "  <thead>\n",
              "    <tr style=\"text-align: right;\">\n",
              "      <th></th>\n",
              "      <th>Initial Choice</th>\n",
              "      <th>Prize Door</th>\n",
              "      <th>Revealed door 1</th>\n",
              "      <th>Revealed door 2</th>\n",
              "      <th>Dont switch</th>\n",
              "      <th>Switch</th>\n",
              "    </tr>\n",
              "  </thead>\n",
              "  <tbody>\n",
              "    <tr>\n",
              "      <th>0</th>\n",
              "      <td>1</td>\n",
              "      <td>1</td>\n",
              "      <td>Empty</td>\n",
              "      <td>Empty</td>\n",
              "      <td>Car</td>\n",
              "      <td>Dog</td>\n",
              "    </tr>\n",
              "    <tr>\n",
              "      <th>1</th>\n",
              "      <td>1</td>\n",
              "      <td>2</td>\n",
              "      <td>Dog</td>\n",
              "      <td>Empty</td>\n",
              "      <td>Empty</td>\n",
              "      <td>Car</td>\n",
              "    </tr>\n",
              "    <tr>\n",
              "      <th>2</th>\n",
              "      <td>1</td>\n",
              "      <td>3</td>\n",
              "      <td>Dog</td>\n",
              "      <td>Empty</td>\n",
              "      <td>Empty</td>\n",
              "      <td>Car</td>\n",
              "    </tr>\n",
              "    <tr>\n",
              "      <th>3</th>\n",
              "      <td>1</td>\n",
              "      <td>4</td>\n",
              "      <td>Dog</td>\n",
              "      <td>Empty</td>\n",
              "      <td>Empty</td>\n",
              "      <td>Car</td>\n",
              "    </tr>\n",
              "    <tr>\n",
              "      <th>4</th>\n",
              "      <td>1</td>\n",
              "      <td>1</td>\n",
              "      <td>Empty</td>\n",
              "      <td>Empty</td>\n",
              "      <td>Car</td>\n",
              "      <td>Dog</td>\n",
              "    </tr>\n",
              "    <tr>\n",
              "      <th>...</th>\n",
              "      <td>...</td>\n",
              "      <td>...</td>\n",
              "      <td>...</td>\n",
              "      <td>...</td>\n",
              "      <td>...</td>\n",
              "      <td>...</td>\n",
              "    </tr>\n",
              "    <tr>\n",
              "      <th>60</th>\n",
              "      <td>4</td>\n",
              "      <td>1</td>\n",
              "      <td>Dog</td>\n",
              "      <td>Empty</td>\n",
              "      <td>Empty</td>\n",
              "      <td>Car</td>\n",
              "    </tr>\n",
              "    <tr>\n",
              "      <th>61</th>\n",
              "      <td>4</td>\n",
              "      <td>2</td>\n",
              "      <td>Dog</td>\n",
              "      <td>Empty</td>\n",
              "      <td>Empty</td>\n",
              "      <td>Car</td>\n",
              "    </tr>\n",
              "    <tr>\n",
              "      <th>62</th>\n",
              "      <td>4</td>\n",
              "      <td>3</td>\n",
              "      <td>Dog</td>\n",
              "      <td>Empty</td>\n",
              "      <td>Empty</td>\n",
              "      <td>Car</td>\n",
              "    </tr>\n",
              "    <tr>\n",
              "      <th>63</th>\n",
              "      <td>4</td>\n",
              "      <td>4</td>\n",
              "      <td>Empty</td>\n",
              "      <td>Empty</td>\n",
              "      <td>Car</td>\n",
              "      <td>Dog</td>\n",
              "    </tr>\n",
              "    <tr>\n",
              "      <th>64</th>\n",
              "      <td>-</td>\n",
              "      <td>-</td>\n",
              "      <td>-</td>\n",
              "      <td>-</td>\n",
              "      <td>25.00%</td>\n",
              "      <td>75.00%</td>\n",
              "    </tr>\n",
              "  </tbody>\n",
              "</table>\n",
              "<p>65 rows × 6 columns</p>\n",
              "</div>\n",
              "    <div class=\"colab-df-buttons\">\n",
              "\n",
              "  <div class=\"colab-df-container\">\n",
              "    <button class=\"colab-df-convert\" onclick=\"convertToInteractive('df-9db56e55-bd95-4a22-bd14-5049e4f9b77d')\"\n",
              "            title=\"Convert this dataframe to an interactive table.\"\n",
              "            style=\"display:none;\">\n",
              "\n",
              "  <svg xmlns=\"http://www.w3.org/2000/svg\" height=\"24px\" viewBox=\"0 -960 960 960\">\n",
              "    <path d=\"M120-120v-720h720v720H120Zm60-500h600v-160H180v160Zm220 220h160v-160H400v160Zm0 220h160v-160H400v160ZM180-400h160v-160H180v160Zm440 0h160v-160H620v160ZM180-180h160v-160H180v160Zm440 0h160v-160H620v160Z\"/>\n",
              "  </svg>\n",
              "    </button>\n",
              "\n",
              "  <style>\n",
              "    .colab-df-container {\n",
              "      display:flex;\n",
              "      gap: 12px;\n",
              "    }\n",
              "\n",
              "    .colab-df-convert {\n",
              "      background-color: #E8F0FE;\n",
              "      border: none;\n",
              "      border-radius: 50%;\n",
              "      cursor: pointer;\n",
              "      display: none;\n",
              "      fill: #1967D2;\n",
              "      height: 32px;\n",
              "      padding: 0 0 0 0;\n",
              "      width: 32px;\n",
              "    }\n",
              "\n",
              "    .colab-df-convert:hover {\n",
              "      background-color: #E2EBFA;\n",
              "      box-shadow: 0px 1px 2px rgba(60, 64, 67, 0.3), 0px 1px 3px 1px rgba(60, 64, 67, 0.15);\n",
              "      fill: #174EA6;\n",
              "    }\n",
              "\n",
              "    .colab-df-buttons div {\n",
              "      margin-bottom: 4px;\n",
              "    }\n",
              "\n",
              "    [theme=dark] .colab-df-convert {\n",
              "      background-color: #3B4455;\n",
              "      fill: #D2E3FC;\n",
              "    }\n",
              "\n",
              "    [theme=dark] .colab-df-convert:hover {\n",
              "      background-color: #434B5C;\n",
              "      box-shadow: 0px 1px 3px 1px rgba(0, 0, 0, 0.15);\n",
              "      filter: drop-shadow(0px 1px 2px rgba(0, 0, 0, 0.3));\n",
              "      fill: #FFFFFF;\n",
              "    }\n",
              "  </style>\n",
              "\n",
              "    <script>\n",
              "      const buttonEl =\n",
              "        document.querySelector('#df-9db56e55-bd95-4a22-bd14-5049e4f9b77d button.colab-df-convert');\n",
              "      buttonEl.style.display =\n",
              "        google.colab.kernel.accessAllowed ? 'block' : 'none';\n",
              "\n",
              "      async function convertToInteractive(key) {\n",
              "        const element = document.querySelector('#df-9db56e55-bd95-4a22-bd14-5049e4f9b77d');\n",
              "        const dataTable =\n",
              "          await google.colab.kernel.invokeFunction('convertToInteractive',\n",
              "                                                    [key], {});\n",
              "        if (!dataTable) return;\n",
              "\n",
              "        const docLinkHtml = 'Like what you see? Visit the ' +\n",
              "          '<a target=\"_blank\" href=https://colab.research.google.com/notebooks/data_table.ipynb>data table notebook</a>'\n",
              "          + ' to learn more about interactive tables.';\n",
              "        element.innerHTML = '';\n",
              "        dataTable['output_type'] = 'display_data';\n",
              "        await google.colab.output.renderOutput(dataTable, element);\n",
              "        const docLink = document.createElement('div');\n",
              "        docLink.innerHTML = docLinkHtml;\n",
              "        element.appendChild(docLink);\n",
              "      }\n",
              "    </script>\n",
              "  </div>\n",
              "\n",
              "\n",
              "<div id=\"df-38ff7dc4-5374-47fd-bd4c-a4dd4d1eb2c1\">\n",
              "  <button class=\"colab-df-quickchart\" onclick=\"quickchart('df-38ff7dc4-5374-47fd-bd4c-a4dd4d1eb2c1')\"\n",
              "            title=\"Suggest charts\"\n",
              "            style=\"display:none;\">\n",
              "\n",
              "<svg xmlns=\"http://www.w3.org/2000/svg\" height=\"24px\"viewBox=\"0 0 24 24\"\n",
              "     width=\"24px\">\n",
              "    <g>\n",
              "        <path d=\"M19 3H5c-1.1 0-2 .9-2 2v14c0 1.1.9 2 2 2h14c1.1 0 2-.9 2-2V5c0-1.1-.9-2-2-2zM9 17H7v-7h2v7zm4 0h-2V7h2v10zm4 0h-2v-4h2v4z\"/>\n",
              "    </g>\n",
              "</svg>\n",
              "  </button>\n",
              "\n",
              "<style>\n",
              "  .colab-df-quickchart {\n",
              "      --bg-color: #E8F0FE;\n",
              "      --fill-color: #1967D2;\n",
              "      --hover-bg-color: #E2EBFA;\n",
              "      --hover-fill-color: #174EA6;\n",
              "      --disabled-fill-color: #AAA;\n",
              "      --disabled-bg-color: #DDD;\n",
              "  }\n",
              "\n",
              "  [theme=dark] .colab-df-quickchart {\n",
              "      --bg-color: #3B4455;\n",
              "      --fill-color: #D2E3FC;\n",
              "      --hover-bg-color: #434B5C;\n",
              "      --hover-fill-color: #FFFFFF;\n",
              "      --disabled-bg-color: #3B4455;\n",
              "      --disabled-fill-color: #666;\n",
              "  }\n",
              "\n",
              "  .colab-df-quickchart {\n",
              "    background-color: var(--bg-color);\n",
              "    border: none;\n",
              "    border-radius: 50%;\n",
              "    cursor: pointer;\n",
              "    display: none;\n",
              "    fill: var(--fill-color);\n",
              "    height: 32px;\n",
              "    padding: 0;\n",
              "    width: 32px;\n",
              "  }\n",
              "\n",
              "  .colab-df-quickchart:hover {\n",
              "    background-color: var(--hover-bg-color);\n",
              "    box-shadow: 0 1px 2px rgba(60, 64, 67, 0.3), 0 1px 3px 1px rgba(60, 64, 67, 0.15);\n",
              "    fill: var(--button-hover-fill-color);\n",
              "  }\n",
              "\n",
              "  .colab-df-quickchart-complete:disabled,\n",
              "  .colab-df-quickchart-complete:disabled:hover {\n",
              "    background-color: var(--disabled-bg-color);\n",
              "    fill: var(--disabled-fill-color);\n",
              "    box-shadow: none;\n",
              "  }\n",
              "\n",
              "  .colab-df-spinner {\n",
              "    border: 2px solid var(--fill-color);\n",
              "    border-color: transparent;\n",
              "    border-bottom-color: var(--fill-color);\n",
              "    animation:\n",
              "      spin 1s steps(1) infinite;\n",
              "  }\n",
              "\n",
              "  @keyframes spin {\n",
              "    0% {\n",
              "      border-color: transparent;\n",
              "      border-bottom-color: var(--fill-color);\n",
              "      border-left-color: var(--fill-color);\n",
              "    }\n",
              "    20% {\n",
              "      border-color: transparent;\n",
              "      border-left-color: var(--fill-color);\n",
              "      border-top-color: var(--fill-color);\n",
              "    }\n",
              "    30% {\n",
              "      border-color: transparent;\n",
              "      border-left-color: var(--fill-color);\n",
              "      border-top-color: var(--fill-color);\n",
              "      border-right-color: var(--fill-color);\n",
              "    }\n",
              "    40% {\n",
              "      border-color: transparent;\n",
              "      border-right-color: var(--fill-color);\n",
              "      border-top-color: var(--fill-color);\n",
              "    }\n",
              "    60% {\n",
              "      border-color: transparent;\n",
              "      border-right-color: var(--fill-color);\n",
              "    }\n",
              "    80% {\n",
              "      border-color: transparent;\n",
              "      border-right-color: var(--fill-color);\n",
              "      border-bottom-color: var(--fill-color);\n",
              "    }\n",
              "    90% {\n",
              "      border-color: transparent;\n",
              "      border-bottom-color: var(--fill-color);\n",
              "    }\n",
              "  }\n",
              "</style>\n",
              "\n",
              "  <script>\n",
              "    async function quickchart(key) {\n",
              "      const quickchartButtonEl =\n",
              "        document.querySelector('#' + key + ' button');\n",
              "      quickchartButtonEl.disabled = true;  // To prevent multiple clicks.\n",
              "      quickchartButtonEl.classList.add('colab-df-spinner');\n",
              "      try {\n",
              "        const charts = await google.colab.kernel.invokeFunction(\n",
              "            'suggestCharts', [key], {});\n",
              "      } catch (error) {\n",
              "        console.error('Error during call to suggestCharts:', error);\n",
              "      }\n",
              "      quickchartButtonEl.classList.remove('colab-df-spinner');\n",
              "      quickchartButtonEl.classList.add('colab-df-quickchart-complete');\n",
              "    }\n",
              "    (() => {\n",
              "      let quickchartButtonEl =\n",
              "        document.querySelector('#df-38ff7dc4-5374-47fd-bd4c-a4dd4d1eb2c1 button');\n",
              "      quickchartButtonEl.style.display =\n",
              "        google.colab.kernel.accessAllowed ? 'block' : 'none';\n",
              "    })();\n",
              "  </script>\n",
              "</div>\n",
              "\n",
              "  <div id=\"id_1a92ceb4-d94e-474f-bc75-a05e7f1c2018\">\n",
              "    <style>\n",
              "      .colab-df-generate {\n",
              "        background-color: #E8F0FE;\n",
              "        border: none;\n",
              "        border-radius: 50%;\n",
              "        cursor: pointer;\n",
              "        display: none;\n",
              "        fill: #1967D2;\n",
              "        height: 32px;\n",
              "        padding: 0 0 0 0;\n",
              "        width: 32px;\n",
              "      }\n",
              "\n",
              "      .colab-df-generate:hover {\n",
              "        background-color: #E2EBFA;\n",
              "        box-shadow: 0px 1px 2px rgba(60, 64, 67, 0.3), 0px 1px 3px 1px rgba(60, 64, 67, 0.15);\n",
              "        fill: #174EA6;\n",
              "      }\n",
              "\n",
              "      [theme=dark] .colab-df-generate {\n",
              "        background-color: #3B4455;\n",
              "        fill: #D2E3FC;\n",
              "      }\n",
              "\n",
              "      [theme=dark] .colab-df-generate:hover {\n",
              "        background-color: #434B5C;\n",
              "        box-shadow: 0px 1px 3px 1px rgba(0, 0, 0, 0.15);\n",
              "        filter: drop-shadow(0px 1px 2px rgba(0, 0, 0, 0.3));\n",
              "        fill: #FFFFFF;\n",
              "      }\n",
              "    </style>\n",
              "    <button class=\"colab-df-generate\" onclick=\"generateWithVariable('df')\"\n",
              "            title=\"Generate code using this dataframe.\"\n",
              "            style=\"display:none;\">\n",
              "\n",
              "  <svg xmlns=\"http://www.w3.org/2000/svg\" height=\"24px\"viewBox=\"0 0 24 24\"\n",
              "       width=\"24px\">\n",
              "    <path d=\"M7,19H8.4L18.45,9,17,7.55,7,17.6ZM5,21V16.75L18.45,3.32a2,2,0,0,1,2.83,0l1.4,1.43a1.91,1.91,0,0,1,.58,1.4,1.91,1.91,0,0,1-.58,1.4L9.25,21ZM18.45,9,17,7.55Zm-12,3A5.31,5.31,0,0,0,4.9,8.1,5.31,5.31,0,0,0,1,6.5,5.31,5.31,0,0,0,4.9,4.9,5.31,5.31,0,0,0,6.5,1,5.31,5.31,0,0,0,8.1,4.9,5.31,5.31,0,0,0,12,6.5,5.46,5.46,0,0,0,6.5,12Z\"/>\n",
              "  </svg>\n",
              "    </button>\n",
              "    <script>\n",
              "      (() => {\n",
              "      const buttonEl =\n",
              "        document.querySelector('#id_1a92ceb4-d94e-474f-bc75-a05e7f1c2018 button.colab-df-generate');\n",
              "      buttonEl.style.display =\n",
              "        google.colab.kernel.accessAllowed ? 'block' : 'none';\n",
              "\n",
              "      buttonEl.onclick = () => {\n",
              "        google.colab.notebook.generateWithVariable('df');\n",
              "      }\n",
              "      })();\n",
              "    </script>\n",
              "  </div>\n",
              "\n",
              "    </div>\n",
              "  </div>\n"
            ],
            "application/vnd.google.colaboratory.intrinsic+json": {
              "type": "dataframe",
              "variable_name": "df",
              "summary": "{\n  \"name\": \"df\",\n  \"rows\": 65,\n  \"fields\": [\n    {\n      \"column\": \"Initial Choice\",\n      \"properties\": {\n        \"dtype\": \"category\",\n        \"num_unique_values\": 5,\n        \"samples\": [\n          2,\n          \"-\",\n          3\n        ],\n        \"semantic_type\": \"\",\n        \"description\": \"\"\n      }\n    },\n    {\n      \"column\": \"Prize Door\",\n      \"properties\": {\n        \"dtype\": \"category\",\n        \"num_unique_values\": 5,\n        \"samples\": [\n          2,\n          \"-\",\n          3\n        ],\n        \"semantic_type\": \"\",\n        \"description\": \"\"\n      }\n    },\n    {\n      \"column\": \"Revealed door 1\",\n      \"properties\": {\n        \"dtype\": \"category\",\n        \"num_unique_values\": 3,\n        \"samples\": [\n          \"Empty\",\n          \"Dog\",\n          \"-\"\n        ],\n        \"semantic_type\": \"\",\n        \"description\": \"\"\n      }\n    },\n    {\n      \"column\": \"Revealed door 2\",\n      \"properties\": {\n        \"dtype\": \"category\",\n        \"num_unique_values\": 2,\n        \"samples\": [\n          \"-\",\n          \"Empty\"\n        ],\n        \"semantic_type\": \"\",\n        \"description\": \"\"\n      }\n    },\n    {\n      \"column\": \"Dont switch\",\n      \"properties\": {\n        \"dtype\": \"category\",\n        \"num_unique_values\": 3,\n        \"samples\": [\n          \"Car\",\n          \"Empty\"\n        ],\n        \"semantic_type\": \"\",\n        \"description\": \"\"\n      }\n    },\n    {\n      \"column\": \"Switch\",\n      \"properties\": {\n        \"dtype\": \"category\",\n        \"num_unique_values\": 3,\n        \"samples\": [\n          \"Dog\",\n          \"Car\"\n        ],\n        \"semantic_type\": \"\",\n        \"description\": \"\"\n      }\n    }\n  ]\n}"
            }
          },
          "metadata": {},
          "execution_count": 23
        }
      ]
    },
    {
      "cell_type": "markdown",
      "source": [
        "Usage of AI: I used AI to help me understand the logic of the problem a bit, as seen in the comments at the top of the code."
      ],
      "metadata": {
        "id": "hDNr_xZMXfjK"
      }
    },
    {
      "cell_type": "markdown",
      "metadata": {
        "id": "I6VzBqIbBZhm"
      },
      "source": [
        "### 1.3 Conditional Probabilities (3 points)"
      ]
    },
    {
      "cell_type": "markdown",
      "source": [
        "*Topics: frequentist probabilities, conditional probabilities*\n",
        "\n",
        "Consider the probability table:\n",
        "\n",
        "| X | Y | p(X,Y) |\n",
        "|------|------| ----- |\n",
        "| Hot (0)   | Sun (0) | 0.4 |\n",
        "| Hot (0) | Rain (1) | 0.1 |\n",
        "| Cold (1)  | Sun (0) | 0.2 |\n",
        "| Cold (1)  | Rain (1) | 0.3 |\n",
        "\n",
        "\n",
        "\n",
        "a. Implement a sampling algorithm that samples $(X, Y)$ pairs."
      ],
      "metadata": {
        "id": "UZaBa9EkRtPW"
      }
    },
    {
      "cell_type": "code",
      "execution_count": 35,
      "metadata": {
        "id": "G67EbSzgBhN3",
        "colab": {
          "base_uri": "https://localhost:8080/"
        },
        "outputId": "110e4849-77ea-4cdf-8326-ebbcbb2d525e"
      },
      "outputs": [
        {
          "output_type": "stream",
          "name": "stdout",
          "text": [
            "[('hot', 'sun')]\n"
          ]
        }
      ],
      "source": [
        "import random\n",
        "\n",
        "def return_random_sample_joint():\n",
        "    pairs = [(p[0], p[1]) for p in probability_table]\n",
        "    my_weights = [p[2] for p in probability_table]\n",
        "    return random.choices(pairs, weights=my_weights, k=1) #can change k value to obtain more samples\n",
        "\n",
        "x = ['hot', 'cold']\n",
        "y = ['sun', 'rain']\n",
        "\n",
        "probability_table = [\n",
        "  (x[0], y[0], 0.4), #hot sun\n",
        "  (x[0], y[1], 0.1), #hot rain\n",
        "  (x[1], y[0], 0.2), #cold sun\n",
        "  (x[1], y[1], 0.3) #cold rain\n",
        "]\n",
        "\n",
        "sampled_pair = return_random_sample_joint()\n",
        "print(sampled_pair)\n",
        "sampled_pairs_list = [return_random_sample_joint() for _ in range(10)]\n"
      ]
    },
    {
      "cell_type": "markdown",
      "metadata": {
        "id": "Htk-V2eZBkb8"
      },
      "source": [
        "b. Generate samples from $p(Y| X = 0)$ by removing (\"rejecting\") some samples generated by your above sampling algorithm. Use these to generate a histogram for the conditional distribution $p(Y| X=0)$."
      ]
    },
    {
      "cell_type": "code",
      "execution_count": 36,
      "metadata": {
        "id": "-s0xKmTOCaSe",
        "colab": {
          "base_uri": "https://localhost:8080/"
        },
        "outputId": "2a321ebc-c4d4-4652-ba60-f8cb07d83c28"
      },
      "outputs": [
        {
          "output_type": "stream",
          "name": "stdout",
          "text": [
            "[[('cold', 'sun')], [('cold', 'sun')], [('hot', 'sun')], [('cold', 'rain')], [('hot', 'sun')], [('cold', 'sun')], [('hot', 'sun')], [('hot', 'sun')], [('cold', 'sun')], [('cold', 'rain')]]\n",
            "[[('cold', 'sun')], [('cold', 'sun')], [('hot', 'sun')], [('cold', 'rain')], [('hot', 'sun')], [('cold', 'sun')], [('hot', 'sun')], [('hot', 'sun')], [('cold', 'sun')], [('cold', 'rain')]]\n"
          ]
        }
      ],
      "source": [
        "# Put your solution here\n",
        "sampled_pairs_rejected = [x for x in sampled_pairs_list if x[0] != 'hot']\n",
        "print(sampled_pairs_list)\n",
        "print(sampled_pairs_rejected)"
      ]
    },
    {
      "cell_type": "markdown",
      "metadata": {
        "id": "l_N7dMvZCcj-"
      },
      "source": [
        "\n",
        "c. Approximately how many samples do you need from the joint distribution to get stable (say, within 10%) results?"
      ]
    },
    {
      "cell_type": "markdown",
      "metadata": {
        "id": "fV9RxLSECfZQ"
      },
      "source": [
        "*Put your solution here*"
      ]
    },
    {
      "cell_type": "markdown",
      "metadata": {
        "id": "qAo2ahEmDLvl"
      },
      "source": [
        "d.  Calculate $p(Y|X=0)$ analytically. How does your sampling algorithm compare?"
      ]
    },
    {
      "cell_type": "markdown",
      "metadata": {
        "id": "eyc1gjz9DOfg"
      },
      "source": [
        "*Put your solution here*"
      ]
    },
    {
      "cell_type": "markdown",
      "source": [
        "\n",
        "\n",
        "Usage of AI:\n",
        "I used AI to find out that random.choices exists and how to use it\n"
      ],
      "metadata": {
        "id": "rRgPrhbqXjMJ"
      }
    },
    {
      "cell_type": "markdown",
      "metadata": {
        "id": "KjWIRrlgDhXq"
      },
      "source": [
        "## Distributions (5 points)"
      ]
    },
    {
      "cell_type": "markdown",
      "metadata": {
        "id": "eM4tkritDr8C"
      },
      "source": [
        "### 2.1 Convolution of two normal distributions (3 points)"
      ]
    },
    {
      "cell_type": "markdown",
      "source": [
        "\n",
        "*Topics: normal distributions, variance, mean, combining distributions, sums of random variables*\n",
        "\n",
        "This exercise will demonstrate useful properties of normal distributions. A normal distribution $\\mathcal{N}(x|\\mu, \\sigma)$ is completely defined by its mean $\\mu$ and its standard deviation $\\sigma$. As shown in the previous exercise, its PDF can be written as\n",
        "$$ \\mathcal{N}(x|\\mu, \\sigma) = \\frac{1}{\\sqrt{2 \\pi}\\sigma} \\exp\\left( \\frac{-(x-\\mu)^2}{2 \\sigma^2} \\right) \\, .$$"
      ],
      "metadata": {
        "id": "mTb1CPZeSCsU"
      }
    },
    {
      "cell_type": "markdown",
      "source": [
        "#### a (1 point)\n",
        "Create two datasets $\\vec{x} = \\{x_1, x_2, \\dots, x_N\\}$ and $\\vec{y} = \\{y_1, y_2, \\dots, y_N\\}$ by drawing randomly from the PDF of the normal distribution. For $\\vec{x}$ draw from $\\mathcal{N}(x|\\mu=2, \\sigma=1)$ and for $\\vec{y}$ draw from $\\mathcal{N}(y|\\mu=4, \\sigma=2)$. In order to have enough statistics, let $N = 10000$. Vizualize $\\vec{x}$ and $\\vec{y}$ in histograms with 32 bins from -2 to 14.\n",
        "\n",
        "**Hint**: You can use `numpy.random.normal()` to draw $x$ values randomly from $\\mathcal{N}(x|\\mu, \\sigma)$. Use `matplotlib.pyplot` to plot the datasets in a histogram."
      ],
      "metadata": {
        "id": "uKNxqIbTSGLJ"
      }
    },
    {
      "cell_type": "code",
      "execution_count": null,
      "metadata": {
        "id": "4l6jUi51EFly"
      },
      "outputs": [],
      "source": [
        "# Put your solution here"
      ]
    },
    {
      "cell_type": "markdown",
      "metadata": {
        "id": "5_RTg6bZEIOh"
      },
      "source": [
        "#### b (1 point)\n",
        "Create a third dataset $\\vec{z} = \\{z_1, z_2, \\dots, z_N\\}$ where $z_i$ is the sum of two random numbers $x_i$ and $y_i$ that are drawn from $\\mathcal{N}(x|\\mu=2, \\sigma=1)$ and $\\mathcal{N}(y|\\mu=4, \\sigma=2)$, respectively. Plot the dataset. What do you observe? What does the distribution look like? How is its mean related to the two initial normal PDFs?"
      ]
    },
    {
      "cell_type": "code",
      "execution_count": null,
      "metadata": {
        "id": "wNOAh_9eEObh"
      },
      "outputs": [],
      "source": [
        "# Put your solution here"
      ]
    },
    {
      "cell_type": "markdown",
      "metadata": {
        "id": "PofC8uRuEUvY"
      },
      "source": [
        "#### c (1 point)\n",
        "Calculate the variance of the third dataset. Do you find a relation to the variances of $\\vec{x}$ and $\\vec{y}$?"
      ]
    },
    {
      "cell_type": "code",
      "execution_count": null,
      "metadata": {
        "id": "Xl8ndAPnEZwG"
      },
      "outputs": [],
      "source": [
        "# Put your solution here"
      ]
    },
    {
      "cell_type": "markdown",
      "metadata": {
        "id": "byCfIetfFN9l"
      },
      "source": [
        "### 2.2 Marginal normal distributions (2 points)"
      ]
    },
    {
      "cell_type": "markdown",
      "source": [
        "*Topics: multivariate normal & marginal distributions*\n",
        "\n",
        "Consider a multivariate Gaussian of the form\n",
        "$$P(\\mathbf{x}) = \\mathcal{N}(\\mathbf{x}|\\mathbf{\\mu}, \\mathbf{\\Sigma}) = \\frac{1}{(2\\pi)^{D/2} |\\mathbf{\\Sigma}|^{1/2}} \\exp\\left(-\\frac{1}{2} (\\mathbf{x}-\\boldsymbol{\\mu})^{T} \\mathbf{\\Sigma}^{-1}(\\mathbf{x}-\\boldsymbol{\\mu})\\right) \\, ,$$\n",
        "\n",
        "where $\\mathbf{x}$ and $\\boldsymbol{\\mu}$ are vectors with $D$ entries and $\\mathbf{\\Sigma}$ is a $D \\times D$ covariance matrix. $|\\mathbf{\\Sigma}|$ is the determinant of this matrix."
      ],
      "metadata": {
        "id": "U-9dg2SBSVuK"
      }
    },
    {
      "cell_type": "markdown",
      "metadata": {
        "id": "QJZ1D-BVFY_F"
      },
      "source": [
        "#### a (1 point)\n",
        "Consider the case where $D = 2$. We use the following three sets of ($\\boldsymbol{\\mu}$, $\\mathbf{\\Sigma}$) to create 2D contour- and 3D surface plots of the corresponding PDFs (with arbitrary contour levels)\n",
        "\n",
        "$$ \\boldsymbol{\\mu_1} = \\begin{pmatrix} 5 \\\\ 5 \\end{pmatrix} ~ \\mathbf{\\Sigma_1} = \\begin{pmatrix} 1 & 0 \\\\ 0 & 1 \\end{pmatrix} \\, ,$$\n",
        "\n",
        "$$ \\boldsymbol{\\mu_2} = \\begin{pmatrix} 5 \\\\ 5 \\end{pmatrix} ~ \\mathbf{\\Sigma_2} = \\begin{pmatrix} 1 & -0.5 \\\\ -0.5 & 1 \\end{pmatrix} \\, ,$$\n",
        "\n",
        "$$ \\boldsymbol{\\mu_3} = \\begin{pmatrix} 5 \\\\ 5 \\end{pmatrix} ~ \\mathbf{\\Sigma_3} = \\begin{pmatrix} 1 & 0.7 \\\\ 0.7 & 1 \\end{pmatrix} \\, .$$\n",
        "\n",
        "Implement the multivariate Gaussian yourself using numpy matrix multiplication."
      ]
    },
    {
      "cell_type": "code",
      "execution_count": null,
      "metadata": {
        "id": "semkOMLZFf18"
      },
      "outputs": [],
      "source": [
        "import numpy as np\n",
        "import matplotlib.pyplot as plt\n",
        "\n",
        "def mvgauss(x, mu, sigma):\n",
        "  raise NotImplementedError # Put your solution here\n",
        "\n",
        "mu = np.array([5, 5])\n",
        "sig1 = np.array([[1, 0.0], [0.0, 1]])\n",
        "sig2 = np.array([[1, -0.5], [-0.5, 1]])\n",
        "sig3 = np.array([[1, 0.7], [0.7, 1]])\n",
        "\n",
        "def create_plots(mu, sig1, sig2, sig3):\n",
        "    x = np.linspace(2, 8, 100)\n",
        "    y = np.linspace(2, 8, 100)\n",
        "\n",
        "    z1 = np.empty([len(x), len(y)])\n",
        "    z2 = np.empty([len(x), len(y)])\n",
        "    z3 = np.empty([len(x), len(y)])\n",
        "    z = [z1,z2,z3]\n",
        "\n",
        "    # collect plotting data\n",
        "    for i in range(0, len(x)):\n",
        "        for j in range(0, len(y)):\n",
        "            z1[i][j] = mvgauss(np.array([x[i], y[j]]), mu, sig1)\n",
        "            z2[i][j] = mvgauss(np.array([x[i], y[j]]), mu, sig2)\n",
        "            z3[i][j] = mvgauss(np.array([x[i], y[j]]), mu, sig3)\n",
        "\n",
        "    # contour plots\n",
        "    fig, axs = plt.subplots(1,3, figsize=(15,5))\n",
        "    for i, ax in enumerate(axs):\n",
        "      ax.contour(x,y,z[i])\n",
        "      ax.set_title(f'$\\mu_{i+1}$, $\\Sigma_{i+1}$')\n",
        "\n",
        "    # surface plots\n",
        "    xx,yy = np.meshgrid(x,y)\n",
        "    fig2 = plt.figure(figsize=(15,5))\n",
        "    for i in range(3):\n",
        "      ax = fig2.add_subplot(1, 3, i+1, projection='3d')\n",
        "      ax.plot_surface(xx,yy,z[i], cmap='viridis')\n",
        "\n",
        "create_plots(mu,sig1,sig2,sig3)"
      ]
    },
    {
      "cell_type": "markdown",
      "metadata": {
        "id": "xdkamzv7Fngo"
      },
      "source": [
        "#### b (1 point)\n",
        "The marginal distribution of a multivariate Gaussian is defined as\n",
        "\n",
        "$$ P(\\mathbf{x}_i) = \\int P(\\mathbf{x}_i, \\mathbf{x}_j) \\, d\\mathbf{x}_j \\, .$$\n",
        "\n",
        "Calculate the marginal distributions for the three multivariate Gaussians from above along the $x$ and $y$ axis. First do the calculation for one of the marginals by hand, and then use this to argue the answer for the other five marginals. Confirm your results using the `margins()` function from `scipy.stats.contingency`. How do the different marginal distributions compare?"
      ]
    },
    {
      "cell_type": "markdown",
      "metadata": {
        "id": "yWDCnIvaEyWo"
      },
      "source": [
        "*Put your solution here*"
      ]
    },
    {
      "cell_type": "code",
      "execution_count": null,
      "metadata": {
        "id": "NWL34R8AFqmA"
      },
      "outputs": [],
      "source": [
        "from scipy.stats.contingency import margins\n",
        "# Put your solution here"
      ]
    },
    {
      "cell_type": "markdown",
      "source": [
        "Usage of AI: *COMMENT HERE*"
      ],
      "metadata": {
        "id": "IgI3k1piXoqj"
      }
    },
    {
      "cell_type": "markdown",
      "metadata": {
        "id": "EoCJxznVUVlR"
      },
      "source": [
        "## Inference and Bayes nets (15 points)"
      ]
    },
    {
      "cell_type": "markdown",
      "source": [
        "### 3.1 Inverse Sampling (2 points)"
      ],
      "metadata": {
        "id": "SVBfLKDYUTeg"
      }
    },
    {
      "cell_type": "markdown",
      "source": [
        "*Topics: Inverse transform sampling*\n",
        "\n",
        "**Reading material: Murphy 23.2.1**"
      ],
      "metadata": {
        "id": "0hwLud_5YOwj"
      }
    },
    {
      "cell_type": "markdown",
      "source": [
        "(2 points) Consider the target exponential pdf $p(x)=\\lambda e^{-\\lambda x}$, where $\\lambda$ is the rate parameter. Define a function that, using the inverse transform method, generates samples from the exponential distribution.\n",
        "\n",
        "Choosing $\\lambda =0.5$ and a sample size of $1000$, plot the histogram of the sampled data and overlay the theoretical exponential distribution curve on top.\n",
        "\n",
        "Hint: You will need to use the function `np.random.uniform`"
      ],
      "metadata": {
        "id": "0nJh42SnUaVY"
      }
    },
    {
      "cell_type": "code",
      "source": [
        "def inverse_transform(rate, sample_size):\n",
        "  # YOUR CODE HERE\n",
        "  return\n"
      ],
      "metadata": {
        "id": "ZbeQBlh0W2BD"
      },
      "execution_count": null,
      "outputs": []
    },
    {
      "cell_type": "markdown",
      "source": [
        "Usage of AI: *COMMENT HERE*"
      ],
      "metadata": {
        "id": "v66ewHPkXLEH"
      }
    },
    {
      "cell_type": "markdown",
      "metadata": {
        "id": "C8vBFHv0RL4m"
      },
      "source": [
        "### 3.2 Metropolis Hastings (9 points)\n",
        "\n"
      ]
    },
    {
      "cell_type": "markdown",
      "metadata": {
        "id": "mDJu4y_mUhpH"
      },
      "source": [
        "*Topics: Multivariate normal, Metropolis Hastings and marginal distributionsm*\n",
        "\n",
        "**Reading material: Murphy 5.2.2, 5.2.2.1, 24.3**\n",
        "\n",
        "We will explore a 2-dim and bimodal probability density function."
      ]
    },
    {
      "cell_type": "code",
      "metadata": {
        "id": "ms-mRNnIUeke"
      },
      "source": [
        "# provided\n",
        "\n",
        "# The likelihood function is given\n",
        "\n",
        "def pdf_bimodal(x):\n",
        "    \"\"\"Bimodal pdf\"\"\"\n",
        "    sigma1 = 1.0\n",
        "    sigma2 = 0.5\n",
        "    pdf = 0.5/(np.sqrt(2*np.pi*sigma1**2))*np.exp(-0.5*((x-1.5)**2).sum()/sigma1**2)  +  0.5/(np.sqrt(2*np.pi*sigma2**2))*np.exp(-0.5*((x+1.0)**2).sum()/sigma2**2)\n",
        "    return pdf\n"
      ],
      "execution_count": null,
      "outputs": []
    },
    {
      "cell_type": "markdown",
      "metadata": {
        "id": "YZ3gWf2fsa9_"
      },
      "source": [
        "1. Write your own Metropolish Hastings algorithm. (4 points)\n",
        "\n",
        "- The proposal distribution is supposed to be a $D=2$ dimensional isotropic Gaussian with variance $\\sigma^2$.\n",
        "- Given some pdf, the algorithm should produce and return a given number of chain points $N$, starting with some initial vector $\\mathbf{x}_0$. The result should be returned as a $N\\times D$ array.\n",
        "- The algorithm should also evaluate and print the acceptance rate (fraction of accepted transitions over total number of steps).\n",
        "\n",
        "Hints: Use `np.random.randn`, `np.random.rand`, `np.array` where appropriate. Write the algorithm such that it works for any dimensions of $\\mathbf{x}_0$."
      ]
    },
    {
      "cell_type": "code",
      "metadata": {
        "id": "yDVjKBXBaZ-e"
      },
      "source": [
        "def MetropolisHastings(pdf, N, x_init, sigma):\n",
        "    # YOUR CODE HERE\n",
        "    return"
      ],
      "execution_count": null,
      "outputs": []
    },
    {
      "cell_type": "markdown",
      "metadata": {
        "id": "FY5d0KFQZeA5"
      },
      "source": [
        "2. Explore the above bimodal distribution. (3 points)\n",
        "- Show resulting chain for $N=10000$ and for five proposal widths in the range $\\sigma \\in [0.01, 100.]$.  \n",
        "- Based on the acceptance rate and visual inspection of the result, argue what parameters work here best.\n",
        "- What are the problems with too low or too high values of $\\sigma$?\n",
        "- Also discuss what happens when you start with initial values far away from the optimum. This initial phase is called \"burn in phase\".\n",
        "\n",
        "Hints: use `plt.scatter`"
      ]
    },
    {
      "cell_type": "code",
      "metadata": {
        "id": "kRExc3L6WqpP"
      },
      "source": [
        "# YOUR CODE HERE"
      ],
      "execution_count": null,
      "outputs": []
    },
    {
      "cell_type": "markdown",
      "metadata": {
        "id": "d8un8O9EZ2rD"
      },
      "source": [
        "3. Compare your results with the true distribution using 1-dim histograms (both in $x_1$ and $x_2$ direction) (2 points)\n",
        "\n",
        "- Discuss qualitatively whether the true distribution can be recovered for reasonable values of $\\sigma$.\n",
        "- Again, what happens if $\\sigma$ is too large or too small?  Is what you see supporting your observations in the previous question?\n",
        "\n",
        "Note: you have to write your own marginal distributions for `pdf_bimodal`, projected either on `x1` or on `x2` (do these two marginals differ in our case?).\n",
        "\n",
        "Hints: use `plt.hist` with 100 bins and `density = True`"
      ]
    },
    {
      "cell_type": "code",
      "metadata": {
        "id": "Sdco1uHyYRCj"
      },
      "source": [
        "# YOUR CODE HERE"
      ],
      "execution_count": null,
      "outputs": []
    },
    {
      "cell_type": "markdown",
      "source": [
        "Usage of AI: *COMMENT HERE*"
      ],
      "metadata": {
        "id": "SBWddiutdVfP"
      }
    },
    {
      "cell_type": "markdown",
      "source": [
        "### 3.3 Conditional independence and reparametrization (4 points)"
      ],
      "metadata": {
        "id": "N8Dx6TFFRqBf"
      }
    },
    {
      "cell_type": "markdown",
      "source": [
        "*Topics: Independence and Conditional independence*\n",
        "\n",
        "**Reading material: Murphy 10.1.2**"
      ],
      "metadata": {
        "id": "LD37nxr1TqL-"
      }
    },
    {
      "cell_type": "markdown",
      "source": [
        "1. Reparametrization (2 points). In class we introduced the KL divergence\n",
        "$$\n",
        "D_{KL}(q \\mid p) \\equiv \\int dx\\; q(x) \\ln\\frac {q(x)}{p(x)}\n",
        "$$\n",
        "Show that it is reparametrization invariant, if we replace $x$ with another random variable $y = f(x)$, where $f(x)$ is strictly monotonic and differentiable.  Start by quoting $q(y)$ and $p(y)$ in terms of $q(x)$ and $p(x)$.  Hint: Use change of variables!"
      ],
      "metadata": {
        "id": "89Kk7KltEnCK"
      }
    },
    {
      "cell_type": "markdown",
      "source": [
        "YOUR SOLUTION GOES HERE!"
      ],
      "metadata": {
        "id": "UoXqA2goU-T5"
      }
    },
    {
      "cell_type": "markdown",
      "source": [
        "2. Conditional independence (2 points). Consider the graphical model defined by $p(x, y, z) = p(x \\mid y) p(y \\mid z) p(z)$. Show explicitly, by using the relevant definitions, that\n",
        "- $x$ and $z$ are conditionally independent given $y$\n",
        "- $z$ and $x$ are conditionally independent given $y$"
      ],
      "metadata": {
        "id": "nxf-zIJ6FM6B"
      }
    },
    {
      "cell_type": "markdown",
      "source": [
        "YOUR SOLUTION GOES HERE!"
      ],
      "metadata": {
        "id": "tCTJiRe5VHQm"
      }
    },
    {
      "cell_type": "markdown",
      "source": [
        "Usage of AI: *COMMENT HERE*"
      ],
      "metadata": {
        "id": "1311xRyDK3iF"
      }
    }
  ],
  "metadata": {
    "colab": {
      "provenance": [],
      "collapsed_sections": [
        "oXoDp4BBAz7h",
        "fuhr37WirYqs",
        "I6VzBqIbBZhm",
        "eM4tkritDr8C",
        "byCfIetfFN9l",
        "SVBfLKDYUTeg",
        "C8vBFHv0RL4m",
        "N8Dx6TFFRqBf"
      ],
      "include_colab_link": true
    },
    "kernelspec": {
      "display_name": "Python 3",
      "name": "python3"
    },
    "language_info": {
      "name": "python"
    }
  },
  "nbformat": 4,
  "nbformat_minor": 0
}